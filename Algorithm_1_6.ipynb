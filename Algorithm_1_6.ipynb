{
 "cells": [
  {
   "cell_type": "markdown",
   "metadata": {},
   "source": [
    "第3章 递归"
   ]
  },
  {
   "cell_type": "code",
   "execution_count": 5,
   "metadata": {},
   "outputs": [],
   "source": [
    "#倒计时\n",
    "def countdown(i):\n",
    "    print(i)\n",
    "    if i <= 0: #基线条件：何时结束递归\n",
    "        return\n",
    "    else: #递归条件：何时开始递归\n",
    "        countdown(i-1)"
   ]
  },
  {
   "cell_type": "code",
   "execution_count": 6,
   "metadata": {},
   "outputs": [
    {
     "name": "stdout",
     "output_type": "stream",
     "text": [
      "5\n",
      "4\n",
      "3\n",
      "2\n",
      "1\n",
      "0\n"
     ]
    }
   ],
   "source": [
    "countdown(5)"
   ]
  },
  {
   "cell_type": "code",
   "execution_count": 1,
   "metadata": {},
   "outputs": [],
   "source": [
    "#阶乘\n",
    "def fact(x): #递归函数使用调用栈\n",
    "    if x == 1:\n",
    "        return 1\n",
    "    else:\n",
    "        return x * fact(x-1)"
   ]
  },
  {
   "cell_type": "code",
   "execution_count": 2,
   "metadata": {},
   "outputs": [
    {
     "data": {
      "text/plain": [
       "120"
      ]
     },
     "execution_count": 2,
     "metadata": {},
     "output_type": "execute_result"
    }
   ],
   "source": [
    "fact(5)"
   ]
  },
  {
   "cell_type": "markdown",
   "metadata": {},
   "source": [
    "第4章 快速排序"
   ]
  },
  {
   "cell_type": "code",
   "execution_count": null,
   "metadata": {},
   "outputs": [],
   "source": [
    "#循坏实现求sum\n",
    "def sum(arr):\n",
    "    total=0\n",
    "    if arr=[]:\n",
    "        return total\n",
    "    else:\n",
    "        return total+sum(arr)"
   ]
  },
  {
   "cell_type": "code",
   "execution_count": 8,
   "metadata": {},
   "outputs": [
    {
     "data": {
      "text/plain": [
       "10"
      ]
     },
     "execution_count": 8,
     "metadata": {},
     "output_type": "execute_result"
    }
   ],
   "source": [
    "#递归sum函数的代码\n",
    "def sum(arr):\n",
    "    total = 0\n",
    "    if arr==[]:\n",
    "        return 0\n",
    "    elif len(arr)==1:\n",
    "        return arr[0]\n",
    "    else:\n",
    "        return arr[0]+sum(arr[1:])\n",
    "\n",
    "sum([1, 2, 3, 4])"
   ]
  },
  {
   "cell_type": "code",
   "execution_count": 9,
   "metadata": {},
   "outputs": [
    {
     "data": {
      "text/plain": [
       "0"
      ]
     },
     "execution_count": 9,
     "metadata": {},
     "output_type": "execute_result"
    }
   ],
   "source": [
    "sum([0])"
   ]
  },
  {
   "cell_type": "code",
   "execution_count": 10,
   "metadata": {},
   "outputs": [
    {
     "data": {
      "text/plain": [
       "2"
      ]
     },
     "execution_count": 10,
     "metadata": {},
     "output_type": "execute_result"
    }
   ],
   "source": [
    "sum([2])"
   ]
  },
  {
   "cell_type": "code",
   "execution_count": 11,
   "metadata": {},
   "outputs": [
    {
     "data": {
      "text/plain": [
       "5"
      ]
     },
     "execution_count": 11,
     "metadata": {},
     "output_type": "execute_result"
    }
   ],
   "source": [
    "#编写一个递归函数来计算列表包含的元素数\n",
    "def count(list):\n",
    "    if list == []:\n",
    "        return 0\n",
    "    return 1 + count(list[1:])\n",
    "\n",
    "count([0,1,2,3,4])"
   ]
  },
  {
   "cell_type": "code",
   "execution_count": 26,
   "metadata": {},
   "outputs": [
    {
     "data": {
      "text/plain": [
       "4"
      ]
     },
     "execution_count": 26,
     "metadata": {},
     "output_type": "execute_result"
    }
   ],
   "source": [
    "#找出列表中最大的数字\n",
    "def max(list):\n",
    "    if len(list)==2:\n",
    "        return list[0] if list[0]>list[1] else list[1]\n",
    "    return list[0] if list[0]>max(list[1:]) else max(list[1:])\n",
    "\n",
    "max([1,2,3,4])"
   ]
  },
  {
   "cell_type": "code",
   "execution_count": 25,
   "metadata": {},
   "outputs": [
    {
     "data": {
      "text/plain": [
       "5"
      ]
     },
     "execution_count": 25,
     "metadata": {},
     "output_type": "execute_result"
    }
   ],
   "source": [
    "max([2,3,1,4,5])"
   ]
  },
  {
   "cell_type": "code",
   "execution_count": 28,
   "metadata": {},
   "outputs": [
    {
     "data": {
      "text/plain": [
       "[2, 3, 5, 10]"
      ]
     },
     "execution_count": 28,
     "metadata": {},
     "output_type": "execute_result"
    }
   ],
   "source": [
    "#快速排序。归纳证明+分而治之\n",
    "def quicksort(array):\n",
    "    if len(array) < 2:\n",
    "        return array\n",
    "    else:\n",
    "        pivot = array[0]\n",
    "        less = [i for i in array[1:] if i <= pivot]\n",
    "        greater = [i for i in array[1:] if i > pivot]\n",
    "        return quicksort(less) + [pivot] + quicksort(greater)\n",
    "\n",
    "quicksort([10, 5, 2, 3])"
   ]
  },
  {
   "cell_type": "markdown",
   "metadata": {},
   "source": [
    "第5章 散列表"
   ]
  },
  {
   "cell_type": "code",
   "execution_count": null,
   "metadata": {},
   "outputs": [],
   "source": [
    "#查找"
   ]
  },
  {
   "cell_type": "code",
   "execution_count": 2,
   "metadata": {},
   "outputs": [],
   "source": [
    "#防止重复\n",
    "voted = {}\n",
    "def check_voter(name):\n",
    "    if voted.get(name):  #需要用get进行查找。如直接用voted[name]查找，若没有先被添加在dict里面，会报错。\n",
    "        print(\"kick them out!\")\n",
    "    else:\n",
    "        voted[name] = True #需要用voted[name] = True格式进行添加\n",
    "        print(\"let them vote!\")"
   ]
  },
  {
   "cell_type": "code",
   "execution_count": 3,
   "metadata": {},
   "outputs": [
    {
     "name": "stdout",
     "output_type": "stream",
     "text": [
      "let them vote!\n"
     ]
    }
   ],
   "source": [
    "check_voter(\"tom\")"
   ]
  },
  {
   "cell_type": "code",
   "execution_count": 4,
   "metadata": {},
   "outputs": [
    {
     "name": "stdout",
     "output_type": "stream",
     "text": [
      "let them vote!\n"
     ]
    }
   ],
   "source": [
    "check_voter(\"mike\")"
   ]
  },
  {
   "cell_type": "code",
   "execution_count": 5,
   "metadata": {},
   "outputs": [
    {
     "name": "stdout",
     "output_type": "stream",
     "text": [
      "kick them out!\n"
     ]
    }
   ],
   "source": [
    "check_voter(\"mike\")"
   ]
  },
  {
   "cell_type": "code",
   "execution_count": 23,
   "metadata": {},
   "outputs": [
    {
     "name": "stdout",
     "output_type": "stream",
     "text": [
      "{'mike': 1}\n",
      "1\n",
      "1\n"
     ]
    }
   ],
   "source": [
    "a={}\n",
    "a[\"mike\"]=1\n",
    "print(a)\n",
    "print(a[\"mike\"])\n",
    "print(a.get(\"mike\"))"
   ]
  },
  {
   "cell_type": "code",
   "execution_count": 22,
   "metadata": {},
   "outputs": [
    {
     "name": "stdout",
     "output_type": "stream",
     "text": [
      "None\n"
     ]
    },
    {
     "ename": "KeyError",
     "evalue": "'mike'",
     "output_type": "error",
     "traceback": [
      "\u001b[1;31m---------------------------------------------------------------------------\u001b[0m",
      "\u001b[1;31mKeyError\u001b[0m                                  Traceback (most recent call last)",
      "\u001b[1;32m<ipython-input-22-15177b20a517>\u001b[0m in \u001b[0;36m<module>\u001b[1;34m\u001b[0m\n\u001b[0;32m      1\u001b[0m \u001b[0mb\u001b[0m\u001b[1;33m=\u001b[0m\u001b[1;33m{\u001b[0m\u001b[1;33m}\u001b[0m\u001b[1;33m\u001b[0m\u001b[1;33m\u001b[0m\u001b[0m\n\u001b[0;32m      2\u001b[0m \u001b[0mprint\u001b[0m\u001b[1;33m(\u001b[0m\u001b[0mb\u001b[0m\u001b[1;33m.\u001b[0m\u001b[0mget\u001b[0m\u001b[1;33m(\u001b[0m\u001b[1;34m\"mike\"\u001b[0m\u001b[1;33m)\u001b[0m\u001b[1;33m)\u001b[0m\u001b[1;33m\u001b[0m\u001b[1;33m\u001b[0m\u001b[0m\n\u001b[1;32m----> 3\u001b[1;33m \u001b[0mprint\u001b[0m\u001b[1;33m(\u001b[0m\u001b[0mb\u001b[0m\u001b[1;33m[\u001b[0m\u001b[1;34m\"mike\"\u001b[0m\u001b[1;33m]\u001b[0m\u001b[1;33m)\u001b[0m\u001b[1;33m\u001b[0m\u001b[1;33m\u001b[0m\u001b[0m\n\u001b[0m",
      "\u001b[1;31mKeyError\u001b[0m: 'mike'"
     ]
    }
   ],
   "source": [
    "b={}\n",
    "print(b.get(\"mike\"))\n",
    "print(b[\"mike\"])"
   ]
  },
  {
   "cell_type": "code",
   "execution_count": null,
   "metadata": {},
   "outputs": [],
   "source": [
    "#缓存\n",
    "cache = {}\n",
    "def get_page(url):\n",
    "    if cache.get(url):\n",
    "        return cache[url]\n",
    "    else:\n",
    "        data = get_data_from_server(url)\n",
    "        cache[url] = data\n",
    "        return data"
   ]
  },
  {
   "cell_type": "markdown",
   "metadata": {},
   "source": [
    "第6章 广度优先搜索"
   ]
  },
  {
   "cell_type": "code",
   "execution_count": 24,
   "metadata": {},
   "outputs": [
    {
     "data": {
      "text/plain": [
       "['a', 'b', 'c']"
      ]
     },
     "execution_count": 24,
     "metadata": {},
     "output_type": "execute_result"
    }
   ],
   "source": [
    "['a']+['b','c']"
   ]
  },
  {
   "cell_type": "code",
   "execution_count": 1,
   "metadata": {},
   "outputs": [
    {
     "data": {
      "text/plain": [
       "False"
      ]
     },
     "execution_count": 1,
     "metadata": {},
     "output_type": "execute_result"
    }
   ],
   "source": [
    "#查找芒果销售商\n",
    "#实现图\n",
    "graph = {}\n",
    "graph[\"you\"] = [\"alice\", \"bob\", \"claire\"]\n",
    "graph[\"bob\"] = [\"anuj\", \"peggy\"]\n",
    "graph[\"alice\"] = [\"peggy\"]\n",
    "graph[\"claire\"] = [\"thom\", \"jonny\"]\n",
    "graph[\"anuj\"] = []\n",
    "graph[\"peggy\"] = []\n",
    "graph[\"thom\"] = []\n",
    "graph[\"jonny\"] = []\n",
    "\n",
    "#实现算法。使用队列的默认逻辑就是先搜索一度关系，再搜索二度关系。所以最先搜索到的结果就是最短路径。\n",
    "from collections import deque\n",
    "def search(name):\n",
    "    search_queue = deque() #在Python中，可使用函数deque来创建一个双端队列。\n",
    "    search_queue += graph[name]\n",
    "    searched = [] #这个数组用于记录检查过的人\n",
    "    while search_queue:\n",
    "        person = search_queue.popleft() #取出队列中的第一个人\n",
    "        if not person in searched:\n",
    "            if person_is_seller(person):\n",
    "                print(person + \" is a mango seller!\" )\n",
    "                return True\n",
    "        else:\n",
    "            search_queue += graph[person] #不是芒果销售商。将这个人的朋友都加入搜索队列\n",
    "            searched.append(person) # 检查完一个人后，应将其标记为已检查，且不再检查他。如果不这样做，就可能会导致无限循环\n",
    "    return False\n",
    "\n",
    "def person_is_seller(name):#确认是否是芒果销售商\n",
    "    return name[-1] == 'm'\n",
    "\n",
    "search(\"you\")"
   ]
  },
  {
   "cell_type": "markdown",
   "metadata": {},
   "source": [
    "这个算法将不断执行，直到满足以下条件之一：\n",
    " 找到一位芒果销售商；\n",
    " 队列变成空的，这意味着你的人际关系网中没有芒果销售商。"
   ]
  }
 ],
 "metadata": {
  "kernelspec": {
   "display_name": "Python 3",
   "language": "python",
   "name": "python3"
  },
  "language_info": {
   "codemirror_mode": {
    "name": "ipython",
    "version": 3
   },
   "file_extension": ".py",
   "mimetype": "text/x-python",
   "name": "python",
   "nbconvert_exporter": "python",
   "pygments_lexer": "ipython3",
   "version": "3.7.4"
  }
 },
 "nbformat": 4,
 "nbformat_minor": 2
}
